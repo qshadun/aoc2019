{
 "cells": [
  {
   "cell_type": "code",
   "execution_count": 19,
   "metadata": {},
   "outputs": [],
   "source": [
    "from utils import read_lines\n",
    "from collections import deque\n",
    "import heapq\n",
    "\n",
    "def parse_input(input_file):\n",
    "    ans = []\n",
    "    for line in read_lines(input_file):\n",
    "        ans.append([c for c in line])\n",
    "    return ans\n",
    "\n",
    "def find_nodes(grid):\n",
    "    m, n = len(grid), len(grid[0])\n",
    "    ans = {}\n",
    "    for i in range(m):\n",
    "        for j in range(n):\n",
    "            c = grid[i][j]\n",
    "            if c not in ('.', '#'):\n",
    "                ans[c] = (i, j)\n",
    "    return ans\n",
    "\n",
    "deltas = [(-1, 0), (1, 0), (0, -1), (0, 1)]\n",
    "\n",
    "def build_graph(grid):\n",
    "    nodes = find_nodes(grid)\n",
    "    m, n = len(grid), len(grid[0])\n",
    "    edges = {}\n",
    "    for node, (i, j) in nodes.items():\n",
    "        edges_cur_node = []\n",
    "        visited = set([(i, j)])\n",
    "        step = 0\n",
    "        q = deque([(i, j)])\n",
    "        while q:\n",
    "            cur_len = len(q)\n",
    "            step += 1\n",
    "            for _ in range(cur_len):\n",
    "                r, c = q.popleft()\n",
    "                for dr, dc in deltas:\n",
    "                    nr, nc = r + dr, c + dc\n",
    "                    if 0 <= nr < m and 0<= nc < n and grid[nr][nc] != '#' and (nr, nc) not in visited:\n",
    "                        visited.add((nr, nc))\n",
    "                        if grid[nr][nc] != '.':\n",
    "                            edges_cur_node.append((grid[nr][nc], step))\n",
    "                        else:\n",
    "                            q.append((nr, nc))\n",
    "        edges[node] = edges_cur_node\n",
    "    return nodes, edges \n",
    "\n",
    "def can_reach(key_mask, node):\n",
    "    if 'A' <= node <= 'Z':\n",
    "        return key_mask & 1 << (ord(node.lower()) - ord('a'))\n",
    "    else:\n",
    "        return True\n",
    "\n",
    "def calc_mask(mask, node):\n",
    "    if 'a' <= node <= 'z':\n",
    "        return mask | 1 << (ord(node) - ord('a'))\n",
    "    else:\n",
    "        return mask\n",
    "\n",
    "def dijstra(key_mask, node, steps, dist, graph):\n",
    "    hp = [[steps, key_mask, node]]\n",
    "    new_states = []\n",
    "    while hp:\n",
    "        cur_step, cur_mask, cur_node = heapq.heappop(hp)\n",
    "        for next_node, next_step in graph[cur_node]:\n",
    "            if can_reach(cur_mask, next_node):\n",
    "                next_mask = calc_mask(cur_mask, next_node)\n",
    "                total_step = cur_step + next_step\n",
    "                if dist.get((next_mask, next_node), float('inf')) > total_step:\n",
    "                    dist[(next_mask, next_node)] = total_step\n",
    "                    heapq.heappush(hp, [total_step, next_mask, next_node])\n",
    "                    new_states.append([total_step, next_mask, next_node])\n",
    "    return new_states\n",
    "\n",
    "def part1(input_file):\n",
    "    grid = parse_input(input_file)\n",
    "    nodes, edges = build_graph(grid)\n",
    "    end_state = 0\n",
    "    for k in edges:\n",
    "        if 'a' <= k <= 'z':\n",
    "            end_state |= 1 << (ord(k) - ord('a'))\n",
    "    \n",
    "    dist = {(0, '@'): 0}\n",
    "    hp = [[0, 0, '@']] # steps, mask, node\n",
    "    while hp:\n",
    "        steps, key_mask, node = heapq.heappop(hp)\n",
    "        if key_mask == end_state:\n",
    "            return steps\n",
    "        for new_state in dijstra(key_mask, node, steps, dist, edges):\n",
    "            heapq.heappush(hp, new_state)\n",
    "    \n",
    "        "
   ]
  },
  {
   "cell_type": "code",
   "execution_count": 18,
   "metadata": {},
   "outputs": [
    {
     "data": {
      "text/plain": [
       "86"
      ]
     },
     "execution_count": 18,
     "metadata": {},
     "output_type": "execute_result"
    }
   ],
   "source": [
    "part1('inputs/day18_test.txt')"
   ]
  },
  {
   "cell_type": "code",
   "execution_count": 20,
   "metadata": {},
   "outputs": [
    {
     "data": {
      "text/plain": [
       "4420"
      ]
     },
     "execution_count": 20,
     "metadata": {},
     "output_type": "execute_result"
    }
   ],
   "source": [
    "part1('inputs/day18.txt')"
   ]
  },
  {
   "cell_type": "code",
   "execution_count": 43,
   "metadata": {},
   "outputs": [],
   "source": [
    "def build_graph2(grid):\n",
    "    nodes = find_nodes(grid)\n",
    "    start_i, start_j =  nodes['@']\n",
    "    grid[start_i][start_j] = '#'\n",
    "    for di, dj in deltas:\n",
    "        grid[start_i + di][start_j + dj] = '#'\n",
    "    grid[start_i-1][start_j-1] = '@'\n",
    "    nodes['@'] = (start_i-1, start_j-1)\n",
    "    grid[start_i-1][start_j+1] = '!'\n",
    "    nodes['!'] = (start_i-1, start_j+1)\n",
    "    grid[start_i+1][start_j-1] = '$'\n",
    "    nodes['$'] = (start_i+1, start_j-1)\n",
    "    grid[start_i+1][start_j+1] = '%'\n",
    "    nodes['%'] = (start_i+1, start_j+1)\n",
    "\n",
    "    m, n = len(grid), len(grid[0])\n",
    "    edges = {}\n",
    "    for node, (i, j) in nodes.items():\n",
    "        edges_cur_node = []\n",
    "        visited = set([(i, j)])\n",
    "        step = 0\n",
    "        q = deque([(i, j)])\n",
    "        while q:\n",
    "            cur_len = len(q)\n",
    "            step += 1\n",
    "            for _ in range(cur_len):\n",
    "                r, c = q.popleft()\n",
    "                for dr, dc in deltas:\n",
    "                    nr, nc = r + dr, c + dc\n",
    "                    if 0 <= nr < m and 0<= nc < n and grid[nr][nc] != '#' and (nr, nc) not in visited:\n",
    "                        visited.add((nr, nc))\n",
    "                        if grid[nr][nc] != '.':\n",
    "                            edges_cur_node.append((grid[nr][nc], step))\n",
    "                        else:\n",
    "                            q.append((nr, nc))\n",
    "        edges[node] = edges_cur_node\n",
    "    return nodes, edges \n",
    "\n",
    "def dijstra2(key_mask, node, steps, dist, graph):\n",
    "    hp = [[steps, key_mask, node]]\n",
    "    new_states = []\n",
    "    while hp:\n",
    "        cur_step, cur_mask, cur_nodes = heapq.heappop(hp)\n",
    "        cur_nodes = list(cur_nodes)\n",
    "        for i in range(4):\n",
    "            cur_node = cur_nodes[i]\n",
    "            for next_node, next_step in graph[cur_node]:\n",
    "                if can_reach(cur_mask, next_node):\n",
    "                    next_mask = calc_mask(cur_mask, next_node)\n",
    "                    total_step = cur_step + next_step\n",
    "                    next_nodes = tuple(cur_nodes[:i] + [next_node] + cur_nodes[i+1:])\n",
    "                    if dist.get((next_mask, next_nodes), float('inf')) > total_step:\n",
    "                        dist[(next_mask, next_nodes)] = total_step\n",
    "                        heapq.heappush(hp, [total_step, next_mask, next_nodes])\n",
    "                        new_states.append([total_step, next_mask, next_nodes])\n",
    "    return new_states\n",
    "\n",
    "def part2(input_file):\n",
    "    grid = parse_input(input_file)\n",
    "    nodes, edges = build_graph2(grid)\n",
    "    # print(nodes)\n",
    "    # print(edges)\n",
    "    end_state = 0\n",
    "    for k in edges:\n",
    "        if 'a' <= k <= 'z':\n",
    "            end_state |= 1 << (ord(k) - ord('a'))\n",
    "    \n",
    "    dist = {(0, ('@', '!', '$', '%')): 0}\n",
    "    hp = [[0, 0, ('@', '!', '$', '%')]] # steps, mask, nodes\n",
    "    while hp:\n",
    "        steps, key_mask, node = heapq.heappop(hp)\n",
    "        if dist[(key_mask, node)] < steps:\n",
    "            continue\n",
    "        if key_mask == end_state:\n",
    "            return steps\n",
    "        for new_state in dijstra2(key_mask, node, steps, dist, edges):\n",
    "            heapq.heappush(hp, new_state)"
   ]
  },
  {
   "cell_type": "code",
   "execution_count": 44,
   "metadata": {},
   "outputs": [
    {
     "data": {
      "text/plain": [
       "24"
      ]
     },
     "execution_count": 44,
     "metadata": {},
     "output_type": "execute_result"
    }
   ],
   "source": [
    "part2('inputs/day18_test2.txt')"
   ]
  },
  {
   "cell_type": "code",
   "execution_count": 45,
   "metadata": {},
   "outputs": [
    {
     "data": {
      "text/plain": [
       "2128"
      ]
     },
     "execution_count": 45,
     "metadata": {},
     "output_type": "execute_result"
    }
   ],
   "source": [
    "part2('inputs/day18.txt')"
   ]
  },
  {
   "cell_type": "code",
   "execution_count": null,
   "metadata": {},
   "outputs": [],
   "source": []
  }
 ],
 "metadata": {
  "kernelspec": {
   "display_name": "Test",
   "language": "python",
   "name": "python3"
  },
  "language_info": {
   "codemirror_mode": {
    "name": "ipython",
    "version": 3
   },
   "file_extension": ".py",
   "mimetype": "text/x-python",
   "name": "python",
   "nbconvert_exporter": "python",
   "pygments_lexer": "ipython3",
   "version": "3.12.2"
  }
 },
 "nbformat": 4,
 "nbformat_minor": 2
}
