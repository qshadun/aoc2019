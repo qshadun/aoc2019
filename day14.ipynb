{
 "cells": [
  {
   "cell_type": "code",
   "execution_count": 47,
   "metadata": {},
   "outputs": [],
   "source": [
    "from utils import read_lines\n",
    "from collections import defaultdict\n",
    "def parse_line(line):\n",
    "    left, right = line.split(' => ')\n",
    "    t_cnt, t_name = right.split(' ')\n",
    "    ingredients = []\n",
    "    for part in left.split(', '):\n",
    "        cnt, name = part.split(' ')\n",
    "        ingredients.append((name, int(cnt)))\n",
    "    return (t_name, (ingredients, int(t_cnt)))\n",
    "\n",
    "def parse_input(input_file):\n",
    "    return dict(parse_line(line) for line in read_lines(input_file))\n",
    "\n",
    "def part1(input_file):\n",
    "    formulas = parse_input(input_file)\n",
    "    materials = dict(formulas['FUEL'][0])\n",
    "    extras = defaultdict(int)\n",
    "    ans = 0\n",
    "    while materials:\n",
    "        k = next(iter(materials))\n",
    "        amt = materials.pop(k)\n",
    "        if k == 'ORE':\n",
    "            ans += amt\n",
    "            continue\n",
    "        if extras[k] >= amt:\n",
    "            extras[k] -= amt\n",
    "            continue\n",
    "        amt -= extras[k]\n",
    "        extras[k] = 0\n",
    "        ingredients, t_amt = formulas[k]\n",
    "        times = amt // t_amt\n",
    "        if amt % t_amt:\n",
    "            times += 1\n",
    "        extras[k] = t_amt * times - amt\n",
    "        for name, value in ingredients:\n",
    "            materials[name] = materials.get(name, 0) + value * times\n",
    "    return ans\n",
    "\n",
    "\n",
    "def can_make(formulas, total_ores, fuel_amt):\n",
    "    materials = dict(formulas['FUEL'][0])\n",
    "    materials = {k: v * fuel_amt for k, v in materials.items()}\n",
    "    extras = defaultdict(int)\n",
    "    \n",
    "    while materials:\n",
    "        k = next(iter(materials))\n",
    "        amt = materials.pop(k)\n",
    "        if k == 'ORE':\n",
    "            if total_ores < amt:\n",
    "                return False\n",
    "            total_ores -= amt\n",
    "            continue\n",
    "        if extras[k] >= amt:\n",
    "            extras[k] -= amt\n",
    "            continue\n",
    "        amt -= extras[k]\n",
    "        extras[k] = 0\n",
    "        ingredients, t_amt = formulas[k]\n",
    "        times = amt // t_amt\n",
    "        if amt % t_amt:\n",
    "            times += 1\n",
    "        extras[k] = t_amt * times - amt\n",
    "        for name, value in ingredients:\n",
    "            materials[name] = materials.get(name, 0) + value * times\n",
    "    return True\n",
    "\n",
    "def part2(input_file):\n",
    "    formulas = parse_input(input_file)\n",
    "    \n",
    "\n",
    "    total_ore = 1000000000000\n",
    "\n",
    "    left, right = 0, total_ore\n",
    "    while left <= right:\n",
    "        mid = (left + right) // 2\n",
    "        if can_make(formulas, total_ore, mid):\n",
    "            left = mid + 1\n",
    "        else:\n",
    "            right = mid - 1\n",
    "    return right\n",
    "    "
   ]
  },
  {
   "cell_type": "code",
   "execution_count": 21,
   "metadata": {},
   "outputs": [
    {
     "data": {
      "text/plain": [
       "31"
      ]
     },
     "execution_count": 21,
     "metadata": {},
     "output_type": "execute_result"
    }
   ],
   "source": [
    "part1('inputs/day14_test1.txt')"
   ]
  },
  {
   "cell_type": "code",
   "execution_count": 22,
   "metadata": {},
   "outputs": [
    {
     "data": {
      "text/plain": [
       "469536"
      ]
     },
     "execution_count": 22,
     "metadata": {},
     "output_type": "execute_result"
    }
   ],
   "source": [
    "part1('inputs/day14.txt')"
   ]
  },
  {
   "cell_type": "code",
   "execution_count": 48,
   "metadata": {},
   "outputs": [
    {
     "data": {
      "text/plain": [
       "460664"
      ]
     },
     "execution_count": 48,
     "metadata": {},
     "output_type": "execute_result"
    }
   ],
   "source": [
    "part2('inputs/day14_test2.txt')"
   ]
  },
  {
   "cell_type": "code",
   "execution_count": 49,
   "metadata": {},
   "outputs": [
    {
     "data": {
      "text/plain": [
       "3343477"
      ]
     },
     "execution_count": 49,
     "metadata": {},
     "output_type": "execute_result"
    }
   ],
   "source": [
    "part2('inputs/day14.txt')"
   ]
  },
  {
   "cell_type": "code",
   "execution_count": null,
   "metadata": {},
   "outputs": [],
   "source": []
  }
 ],
 "metadata": {
  "kernelspec": {
   "display_name": "Test",
   "language": "python",
   "name": "python3"
  },
  "language_info": {
   "codemirror_mode": {
    "name": "ipython",
    "version": 3
   },
   "file_extension": ".py",
   "mimetype": "text/x-python",
   "name": "python",
   "nbconvert_exporter": "python",
   "pygments_lexer": "ipython3",
   "version": "3.12.2"
  }
 },
 "nbformat": 4,
 "nbformat_minor": 2
}
