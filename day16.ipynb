{
 "cells": [
  {
   "cell_type": "code",
   "execution_count": 54,
   "metadata": {},
   "outputs": [],
   "source": [
    "from utils import read_lines\n",
    "\n",
    "base_pattern = [0, 1, 0, -1]\n",
    "\n",
    "base_pattern_shifted = [1, 0, -1, 0]\n",
    "\n",
    "def fft(nums):\n",
    "    n = len(nums)\n",
    "    ans = []\n",
    "    for i in range(n):\n",
    "        repeat = i + 1\n",
    "        start_pos = i\n",
    "        start_neg = i + 2*repeat\n",
    "        gap = 4* repeat\n",
    "        a = 0\n",
    "        for i in range(start_pos, n, gap):\n",
    "            a += sum(nums[i:i+repeat])\n",
    "        for i in range(start_neg, n, gap):\n",
    "            a -= sum(nums[i:i+repeat])\n",
    "        ans.append(abs(a)%10)\n",
    "    return ans\n",
    "\n",
    "def solve1(s, round=100):\n",
    "    nums = [int(i) for i in s]\n",
    "    for _ in range(round):\n",
    "        nums = fft(nums)\n",
    "    return int(''.join(str(i) for i in nums[:8]))\n",
    "\n",
    "def part1(input_file):\n",
    "    return solve1(read_lines(input_file)[0])\n",
    "\n",
    "# not sure why it works\n",
    "def solve2(s):\n",
    "    nums = [int(i) for i in s]\n",
    "    nums = nums * 10000\n",
    "    \n",
    "    offset = int(s[:7])\n",
    "\n",
    "    nums = nums[offset:]\n",
    "    n = len(nums)\n",
    "    for _ in range(100):\n",
    "        sums = [0] * (n + 1)\n",
    "        for i in range(n):\n",
    "            sums[i+1] = sums[i] + nums[i]\n",
    "        for i in range(n):\n",
    "            v = sums[-1] - sums[i]\n",
    "            nums[i] = abs(v) % 10\n",
    "    \n",
    "    return int(''.join(str(i) for i in nums[:8]))\n",
    "\n",
    "def part2(input_file):\n",
    "    return solve2(read_lines(input_file)[0])\n"
   ]
  },
  {
   "cell_type": "code",
   "execution_count": 55,
   "metadata": {},
   "outputs": [
    {
     "data": {
      "text/plain": [
       "63794407"
      ]
     },
     "execution_count": 55,
     "metadata": {},
     "output_type": "execute_result"
    }
   ],
   "source": [
    "part1('inputs/day16.txt')"
   ]
  },
  {
   "cell_type": "code",
   "execution_count": 57,
   "metadata": {},
   "outputs": [
    {
     "data": {
      "text/plain": [
       "77247538"
      ]
     },
     "execution_count": 57,
     "metadata": {},
     "output_type": "execute_result"
    }
   ],
   "source": [
    "part2('inputs/day16.txt')"
   ]
  },
  {
   "cell_type": "code",
   "execution_count": 56,
   "metadata": {},
   "outputs": [],
   "source": [
    "assert solve1('80871224585914546619083218645595') == 24176176\n",
    "assert solve1('19617804207202209144916044189917') == 73745418\n",
    "assert solve1('69317163492948606335995924319873') == 52432133"
   ]
  },
  {
   "cell_type": "code",
   "execution_count": 52,
   "metadata": {},
   "outputs": [],
   "source": [
    "assert solve2('03036732577212944063491565474664') == 84462026\n",
    "assert solve2('02935109699940807407585447034323') == 78725270\n",
    "assert solve2('03081770884921959731165446850517') == 53553731"
   ]
  },
  {
   "cell_type": "code",
   "execution_count": null,
   "metadata": {},
   "outputs": [],
   "source": []
  }
 ],
 "metadata": {
  "kernelspec": {
   "display_name": "Test",
   "language": "python",
   "name": "python3"
  },
  "language_info": {
   "codemirror_mode": {
    "name": "ipython",
    "version": 3
   },
   "file_extension": ".py",
   "mimetype": "text/x-python",
   "name": "python",
   "nbconvert_exporter": "python",
   "pygments_lexer": "ipython3",
   "version": "3.12.2"
  }
 },
 "nbformat": 4,
 "nbformat_minor": 2
}
