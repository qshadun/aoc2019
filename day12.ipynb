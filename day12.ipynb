{
 "cells": [
  {
   "cell_type": "code",
   "execution_count": 33,
   "metadata": {},
   "outputs": [],
   "source": [
    "from utils import read_lines\n",
    "from dataclasses import dataclass\n",
    "import re\n",
    "import math\n",
    "\n",
    "\n",
    "@dataclass\n",
    "class Moon:\n",
    "    px: int\n",
    "    py: int\n",
    "    pz: int\n",
    "    vx: int = 0\n",
    "    vy: int = 0\n",
    "    vz: int = 0\n",
    "\n",
    "    def update_velocity(self, other):\n",
    "        if self.px < other.px:\n",
    "            self.vx += 1\n",
    "            other.vx -= 1\n",
    "        elif self.px > other.px:\n",
    "            self.vx -= 1\n",
    "            other.vx +=1\n",
    "        \n",
    "        if self.py < other.py:\n",
    "            self.vy += 1\n",
    "            other.vy -= 1\n",
    "        elif self.py > other.py:\n",
    "            self.vy -= 1\n",
    "            other.vy +=1\n",
    "\n",
    "        if self.pz < other.pz:\n",
    "            self.vz += 1\n",
    "            other.vz -= 1\n",
    "        elif self.pz > other.pz:\n",
    "            self.vz -= 1\n",
    "            other.vz +=1\n",
    "\n",
    "    def move(self):\n",
    "        self.px += self.vx\n",
    "        self.py += self.vy\n",
    "        self.pz += self.vz\n",
    "    \n",
    "    def energe(self):\n",
    "        pot = abs(self.px) + abs(self.py) + abs(self.pz)\n",
    "        kin = abs(self.vx) + abs(self.vy) + abs(self.vz)\n",
    "        return pot * kin\n",
    "\n",
    "regex = re.compile(r'<x=(-?\\d+), y=(-?\\d+), z=(-?\\d+)>')\n",
    "def parse_line(line):\n",
    "    m = re.match(regex, line)\n",
    "    return Moon(int(m.group(1)), int(m.group(2)), int(m.group(3)))\n",
    "\n",
    "def part1(input_file, round):\n",
    "    moons = [parse_line(line) for line in read_lines(input_file)]\n",
    "    n = len(moons)\n",
    "    for _ in range(round):\n",
    "        for i in range(n - 1):\n",
    "            for j in range(i+1, n):\n",
    "                moons[i].update_velocity(moons[j])\n",
    "        for i in range(n):\n",
    "            moons[i].move()\n",
    "    return sum(moon.energe() for moon in moons)\n",
    "\n",
    "\n",
    "def find_period(pos):\n",
    "    n = len(pos)\n",
    "    orig_vec = [0] * n\n",
    "    vec = [0] * n\n",
    "    step = 0\n",
    "    while True:\n",
    "        step += 1\n",
    "        for i in range(n-1):\n",
    "            for j in range(i+1, n):\n",
    "                if pos[i] < pos[j]:\n",
    "                    vec[i] += 1\n",
    "                    vec[j] -= 1\n",
    "                elif pos[i] > pos[j]:\n",
    "                    vec[i] -= 1\n",
    "   \n",
    "                    vec[j] += 1\n",
    "        for i in range(n):\n",
    "            pos[i] += vec[i]\n",
    "        if vec == orig_vec:\n",
    "            return step *2\n",
    "\n",
    "def part2(input_file):\n",
    "    moons = [parse_line(line) for line in read_lines(input_file)]\n",
    "    p1 = find_period([m.px for m in moons])\n",
    "    p2 = find_period([m.py for m in moons])\n",
    "    p3 = find_period([m.pz for m in moons])\n",
    "    ans = math.lcm(p1, p2)\n",
    "    ans = math.lcm(ans, p3)\n",
    "    return ans\n"
   ]
  },
  {
   "cell_type": "code",
   "execution_count": 12,
   "metadata": {},
   "outputs": [
    {
     "data": {
      "text/plain": [
       "179"
      ]
     },
     "execution_count": 12,
     "metadata": {},
     "output_type": "execute_result"
    }
   ],
   "source": [
    "part1('inputs/day12_test.txt', 10)"
   ]
  },
  {
   "cell_type": "code",
   "execution_count": 13,
   "metadata": {},
   "outputs": [
    {
     "data": {
      "text/plain": [
       "9139"
      ]
     },
     "execution_count": 13,
     "metadata": {},
     "output_type": "execute_result"
    }
   ],
   "source": [
    "part1('inputs/day12.txt', 1000)"
   ]
  },
  {
   "cell_type": "code",
   "execution_count": 34,
   "metadata": {},
   "outputs": [
    {
     "data": {
      "text/plain": [
       "2772"
      ]
     },
     "execution_count": 34,
     "metadata": {},
     "output_type": "execute_result"
    }
   ],
   "source": [
    "part2('inputs/day12_test.txt')"
   ]
  },
  {
   "cell_type": "code",
   "execution_count": 26,
   "metadata": {},
   "outputs": [
    {
     "data": {
      "text/plain": [
       "420788524631496"
      ]
     },
     "execution_count": 26,
     "metadata": {},
     "output_type": "execute_result"
    }
   ],
   "source": [
    "part2('inputs/day12.txt')\n"
   ]
  },
  {
   "cell_type": "code",
   "execution_count": null,
   "metadata": {},
   "outputs": [],
   "source": []
  }
 ],
 "metadata": {
  "kernelspec": {
   "display_name": "Test",
   "language": "python",
   "name": "python3"
  },
  "language_info": {
   "codemirror_mode": {
    "name": "ipython",
    "version": 3
   },
   "file_extension": ".py",
   "mimetype": "text/x-python",
   "name": "python",
   "nbconvert_exporter": "python",
   "pygments_lexer": "ipython3",
   "version": "3.12.2"
  }
 },
 "nbformat": 4,
 "nbformat_minor": 2
}
