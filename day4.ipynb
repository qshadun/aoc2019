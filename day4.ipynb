{
 "cells": [
  {
   "cell_type": "code",
   "execution_count": 4,
   "metadata": {},
   "outputs": [],
   "source": [
    "num_range = '357253-892942'\n",
    "low, up = [int(x) for x in num_range.split('-')]\n",
    "\n",
    "def is_valid(num):\n",
    "    num = str(num)\n",
    "    rep = 0\n",
    "    for i in range(len(num) - 1):\n",
    "        if num[i] > num[i+1]:\n",
    "            return False\n",
    "        if num[i] == num[i+1]:\n",
    "            rep += 1\n",
    "    return rep > 0\n",
    "\n",
    "def part1():\n",
    "    ans = 0\n",
    "    for num in range(low, up+1):\n",
    "        if is_valid(num):\n",
    "            ans += 1\n",
    "    return ans\n",
    "\n",
    "def is_valid2(num):\n",
    "    num = str(num)\n",
    "    rep = 0\n",
    "    for i in range(len(num) - 1):\n",
    "        if num[i] > num[i+1]:\n",
    "            return False\n",
    "        if num[i] == num[i+1] and (i == len(num) - 2 or num[i+2] != num[i]) and (i == 0 or num[i-1] != num[i]):\n",
    "            rep += 1\n",
    "    return rep > 0\n",
    "\n",
    "def part2():\n",
    "    ans = 0\n",
    "    for num in range(low, up+1):\n",
    "        if is_valid2(num):\n",
    "            ans += 1\n",
    "    return ans"
   ]
  },
  {
   "cell_type": "code",
   "execution_count": 2,
   "metadata": {},
   "outputs": [
    {
     "data": {
      "text/plain": [
       "530"
      ]
     },
     "execution_count": 2,
     "metadata": {},
     "output_type": "execute_result"
    }
   ],
   "source": [
    "part1()"
   ]
  },
  {
   "cell_type": "code",
   "execution_count": 5,
   "metadata": {},
   "outputs": [
    {
     "data": {
      "text/plain": [
       "324"
      ]
     },
     "execution_count": 5,
     "metadata": {},
     "output_type": "execute_result"
    }
   ],
   "source": [
    "part2()"
   ]
  },
  {
   "cell_type": "code",
   "execution_count": null,
   "metadata": {},
   "outputs": [],
   "source": []
  }
 ],
 "metadata": {
  "kernelspec": {
   "display_name": "Test",
   "language": "python",
   "name": "python3"
  },
  "language_info": {
   "codemirror_mode": {
    "name": "ipython",
    "version": 3
   },
   "file_extension": ".py",
   "mimetype": "text/x-python",
   "name": "python",
   "nbconvert_exporter": "python",
   "pygments_lexer": "ipython3",
   "version": "3.12.2"
  }
 },
 "nbformat": 4,
 "nbformat_minor": 2
}
