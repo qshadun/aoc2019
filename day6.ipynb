{
 "cells": [
  {
   "cell_type": "code",
   "execution_count": 16,
   "metadata": {},
   "outputs": [],
   "source": [
    "from utils import read_lines\n",
    "from collections import defaultdict, deque\n",
    "\n",
    "def parse_input(input_file):\n",
    "    orbits = defaultdict(list)\n",
    "    for line in read_lines(input_file):\n",
    "        a, b = line.split(')')\n",
    "        orbits[a].append(b)\n",
    "    return orbits\n",
    "\n",
    "def part1(input_file):\n",
    "    orbits = parse_input(input_file)\n",
    "    ans = 0\n",
    "    step = 0\n",
    "    q = deque(['COM'])\n",
    "    while q:\n",
    "        cur_len = len(q)\n",
    "        ans += cur_len * step\n",
    "        for _ in range(cur_len):\n",
    "            a = q.popleft()\n",
    "            for b in orbits[a]:\n",
    "                q.append(b)\n",
    "        step += 1\n",
    "    return ans\n"
   ]
  },
  {
   "cell_type": "code",
   "execution_count": 17,
   "metadata": {},
   "outputs": [
    {
     "data": {
      "text/plain": [
       "42"
      ]
     },
     "execution_count": 17,
     "metadata": {},
     "output_type": "execute_result"
    }
   ],
   "source": [
    "part1('inputs/day6_test.txt')"
   ]
  },
  {
   "cell_type": "code",
   "execution_count": 18,
   "metadata": {},
   "outputs": [
    {
     "data": {
      "text/plain": [
       "270768"
      ]
     },
     "execution_count": 18,
     "metadata": {},
     "output_type": "execute_result"
    }
   ],
   "source": [
    "part1('inputs/day6.txt')"
   ]
  },
  {
   "cell_type": "code",
   "execution_count": 19,
   "metadata": {},
   "outputs": [],
   "source": [
    "def parse_input2(input_file):\n",
    "    orbits = defaultdict(list)\n",
    "    for line in read_lines(input_file):\n",
    "        a, b = line.split(')')\n",
    "        orbits[a].append(b)\n",
    "        orbits[b].append(a)\n",
    "    return orbits\n",
    "\n",
    "def part2(input_file):\n",
    "    orbits = parse_input2(input_file)\n",
    "    step = 0\n",
    "    q1 = deque(['YOU'])\n",
    "    q2 = deque(['SAN'])\n",
    "    dist1 = {}\n",
    "    dist2 = {}\n",
    "    while q1 or q2:\n",
    "        cur_len1 = len(q1)\n",
    "        \n",
    "        for _ in range(cur_len1):\n",
    "            a = q1.popleft()\n",
    "            for b in orbits[a]:\n",
    "                if b in dist2:\n",
    "                    return step + dist2[b]\n",
    "                if b not in dist1:\n",
    "                    q1.append(b)\n",
    "                    dist1[b] = step\n",
    "        \n",
    "        cur_len2 = len(q2)\n",
    "        for _ in range(cur_len2):\n",
    "            a = q2.popleft()\n",
    "            for b in orbits[a]:\n",
    "                if b in dist1:\n",
    "                    return step + dist1[b]\n",
    "                if b not in dist2:\n",
    "                    q2.append(b)\n",
    "                    dist2[b] = step\n",
    "        step += 1\n",
    "    "
   ]
  },
  {
   "cell_type": "code",
   "execution_count": 21,
   "metadata": {},
   "outputs": [
    {
     "data": {
      "text/plain": [
       "4"
      ]
     },
     "execution_count": 21,
     "metadata": {},
     "output_type": "execute_result"
    }
   ],
   "source": [
    "part2('inputs/day6_test2.txt')"
   ]
  },
  {
   "cell_type": "code",
   "execution_count": 22,
   "metadata": {},
   "outputs": [
    {
     "data": {
      "text/plain": [
       "451"
      ]
     },
     "execution_count": 22,
     "metadata": {},
     "output_type": "execute_result"
    }
   ],
   "source": [
    "part2('inputs/day6.txt')"
   ]
  },
  {
   "cell_type": "code",
   "execution_count": null,
   "metadata": {},
   "outputs": [],
   "source": []
  }
 ],
 "metadata": {
  "kernelspec": {
   "display_name": "Test",
   "language": "python",
   "name": "python3"
  },
  "language_info": {
   "codemirror_mode": {
    "name": "ipython",
    "version": 3
   },
   "file_extension": ".py",
   "mimetype": "text/x-python",
   "name": "python",
   "nbconvert_exporter": "python",
   "pygments_lexer": "ipython3",
   "version": "3.12.2"
  }
 },
 "nbformat": 4,
 "nbformat_minor": 2
}
