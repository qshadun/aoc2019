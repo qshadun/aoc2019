{
 "cells": [
  {
   "cell_type": "code",
   "execution_count": 32,
   "metadata": {},
   "outputs": [],
   "source": [
    "from utils import read_lines\n",
    "from itertools import permutations\n",
    "from collections import defaultdict\n",
    "\n",
    "def parse_program(s):\n",
    "    return [int(x) for x in s.split(',')]\n",
    "\n",
    "def parse_code(num):\n",
    "    if num == 99:\n",
    "        return num, [0]\n",
    "    else:\n",
    "        digits = []\n",
    "        while num > 0:\n",
    "            digits.append(num % 10)\n",
    "            num //=10\n",
    "        digits += [0] * (5-len(digits))\n",
    "        opcode = digits[0]\n",
    "        param_modes = digits[2:]\n",
    "        return opcode, param_modes\n",
    "\n",
    "def run(program, input=0):\n",
    "    i = 0\n",
    "    output = 0\n",
    "    extend_memory = defaultdict(int)\n",
    "    relative_base = 0\n",
    "    def read_memory(addr):\n",
    "        if addr < len(program):\n",
    "            return program[addr]\n",
    "        else:\n",
    "            return extend_memory[addr]\n",
    "        \n",
    "    def write_memory(idx, value, mode):\n",
    "        addr = program[idx]\n",
    "        if mode == 2:\n",
    "            addr = relative_base + addr\n",
    "        if addr < len(program):\n",
    "            program[addr] = value\n",
    "        else:\n",
    "            extend_memory[addr] = value\n",
    "    \n",
    "    def get_oprand(idx, mode):\n",
    "        if mode == 1:\n",
    "            return program[idx]\n",
    "        if mode == 2:\n",
    "            addr = relative_base + program[idx]\n",
    "        else:\n",
    "            addr = program[idx]\n",
    "        return read_memory(addr)\n",
    "\n",
    "    while i < len(program):\n",
    "        opcode, param_modes = parse_code(program[i])\n",
    "        if opcode in (1, 2, 5, 6, 7, 8):\n",
    "            oprand1 = get_oprand(i+1, param_modes[0])\n",
    "            oprand2 = get_oprand(i+2, param_modes[1])\n",
    "    \n",
    "            if opcode == 1:\n",
    "                write_memory(i+3, oprand1 + oprand2, param_modes[2])\n",
    "                i+=4\n",
    "            elif opcode == 2:\n",
    "                write_memory(i+3, oprand1 * oprand2, param_modes[2])\n",
    "                i+=4\n",
    "            elif opcode == 5:\n",
    "                if oprand1 != 0:\n",
    "                    i = oprand2\n",
    "                else:\n",
    "                    i += 3\n",
    "            elif opcode == 6:\n",
    "                if oprand1 == 0:\n",
    "                    i = oprand2\n",
    "                else:\n",
    "                    i += 3\n",
    "            elif opcode == 7:\n",
    "                write_memory(i+3, 1 if oprand1 < oprand2 else 0, param_modes[2])\n",
    "                i+=4\n",
    "            elif opcode == 8:\n",
    "                write_memory(i+3, 1 if oprand1 == oprand2 else 0, param_modes[2])\n",
    "                i+=4\n",
    "        elif opcode ==3 :\n",
    "            write_memory(i+1, input, param_modes[0])\n",
    "            i += 2\n",
    "        elif opcode == 4:\n",
    "            oprand1 = get_oprand(i+1, param_modes[0])\n",
    "            output = oprand1\n",
    "            print(output)\n",
    "            i += 2\n",
    "        elif opcode == 9:\n",
    "            oprand1 = get_oprand(i+1, param_modes[0])\n",
    "            relative_base += oprand1\n",
    "            i+=2\n",
    "        elif program[i] == 99:\n",
    "            return output\n",
    "        else:\n",
    "            raise ValueError(f'illegal code {i} {program[i]}')\n",
    "        \n",
    "def part1(input_file):\n",
    "    s = read_lines(input_file)[0]\n",
    "    program = parse_program(s)\n",
    "    return run(program, 1)\n",
    "\n",
    "def part2(input_file):\n",
    "    s = read_lines(input_file)[0]\n",
    "    program = parse_program(s)\n",
    "    return run(program, 2)"
   ]
  },
  {
   "cell_type": "code",
   "execution_count": 31,
   "metadata": {},
   "outputs": [
    {
     "name": "stdout",
     "output_type": "stream",
     "text": [
      "2870072642\n"
     ]
    },
    {
     "data": {
      "text/plain": [
       "2870072642"
      ]
     },
     "execution_count": 31,
     "metadata": {},
     "output_type": "execute_result"
    }
   ],
   "source": [
    "part1('inputs/day9.txt')"
   ]
  },
  {
   "cell_type": "code",
   "execution_count": 33,
   "metadata": {},
   "outputs": [
    {
     "name": "stdout",
     "output_type": "stream",
     "text": [
      "58534\n"
     ]
    },
    {
     "data": {
      "text/plain": [
       "58534"
      ]
     },
     "execution_count": 33,
     "metadata": {},
     "output_type": "execute_result"
    }
   ],
   "source": [
    "part2('inputs/day9.txt')"
   ]
  },
  {
   "cell_type": "code",
   "execution_count": 24,
   "metadata": {},
   "outputs": [
    {
     "name": "stdout",
     "output_type": "stream",
     "text": [
      "109\n",
      "1\n",
      "204\n",
      "-1\n",
      "1001\n",
      "100\n",
      "1\n",
      "100\n",
      "1008\n",
      "100\n",
      "16\n",
      "101\n",
      "1006\n",
      "101\n",
      "0\n",
      "99\n",
      "1219070632396864\n"
     ]
    }
   ],
   "source": [
    "s = '109,1,204,-1,1001,100,1,100,1008,100,16,101,1006,101,0,99'\n",
    "program = parse_program(s)\n",
    "assert run(program) == 99\n",
    "\n",
    "s = '1102,34915192,34915192,7,4,7,99,0'\n",
    "program = parse_program(s)\n",
    "assert len(str(run(program))) == 16"
   ]
  },
  {
   "cell_type": "code",
   "execution_count": 27,
   "metadata": {},
   "outputs": [
    {
     "name": "stdout",
     "output_type": "stream",
     "text": [
      "1\n",
      "0\n",
      "1\n",
      "0\n",
      "1\n",
      "0\n",
      "1\n",
      "0\n",
      "0\n",
      "1\n",
      "0\n",
      "1\n",
      "999\n",
      "1000\n",
      "1001\n"
     ]
    }
   ],
   "source": [
    "s = '3,9,8,9,10,9,4,9,99,-1,8'\n",
    "program = parse_program(s)\n",
    "assert run(program.copy(), 8) == 1\n",
    "assert run(program, 9) == 0\n",
    "\n",
    "s = '3,9,7,9,10,9,4,9,99,-1,8'\n",
    "program = parse_program(s)\n",
    "assert run(program.copy(), 7) == 1\n",
    "assert run(program, 8) == 0\n",
    "\n",
    "s = '3,3,1108,-1,8,3,4,3,99'\n",
    "program = parse_program(s)\n",
    "assert run(program.copy(), 8) == 1\n",
    "assert run(program, 9) == 0\n",
    "\n",
    "s = '3,3,1107,-1,8,3,4,3,99'\n",
    "program = parse_program(s)\n",
    "assert run(program.copy(), 7) == 1\n",
    "assert run(program, 8) == 0\n",
    "\n",
    "s = '3,12,6,12,15,1,13,14,13,4,13,99,-1,0,1,9'\n",
    "program = parse_program(s)\n",
    "assert run(program.copy(), 0) == 0\n",
    "assert run(program, 1) == 1\n",
    "\n",
    "s = '3,3,1105,-1,9,1101,0,0,12,4,12,99,1'\n",
    "program = parse_program(s)\n",
    "assert run(program.copy(), 0) == 0\n",
    "assert run(program, 1) == 1\n",
    "\n",
    "s = '3,21,1008,21,8,20,1005,20,22,107,8,21,20,1006,20,31,1106,0,36,98,0,0,1002,21,125,20,4,20,1105,1,46,104,999,1105,1,46,1101,1000,1,20,4,20,1105,1,46,98,99'\n",
    "program = parse_program(s)\n",
    "assert run(program.copy(), 7) == 999\n",
    "assert run(program.copy(), 8) == 1000\n",
    "assert run(program.copy(), 9) == 1001"
   ]
  },
  {
   "cell_type": "code",
   "execution_count": null,
   "metadata": {},
   "outputs": [],
   "source": []
  }
 ],
 "metadata": {
  "kernelspec": {
   "display_name": "Test",
   "language": "python",
   "name": "python3"
  },
  "language_info": {
   "codemirror_mode": {
    "name": "ipython",
    "version": 3
   },
   "file_extension": ".py",
   "mimetype": "text/x-python",
   "name": "python",
   "nbconvert_exporter": "python",
   "pygments_lexer": "ipython3",
   "version": "3.12.2"
  }
 },
 "nbformat": 4,
 "nbformat_minor": 2
}
