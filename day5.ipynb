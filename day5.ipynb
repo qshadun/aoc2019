{
 "cells": [
  {
   "cell_type": "code",
   "execution_count": 50,
   "metadata": {},
   "outputs": [],
   "source": [
    "from utils import read_lines\n",
    "\n",
    "def parse_program(s):\n",
    "    return [int(x) for x in s.split(',')]\n",
    "\n",
    "def parse_code(num):\n",
    "    if num == 99:\n",
    "        return num, [0]\n",
    "    else:\n",
    "        digits = []\n",
    "        while num > 0:\n",
    "            digits.append(num % 10)\n",
    "            num //=10\n",
    "        digits += [0] * (5-len(digits))\n",
    "        opcode = digits[0]\n",
    "        param_modes = digits[2:]\n",
    "        return opcode, param_modes\n",
    "\n",
    "def run(program, initial_input):\n",
    "    i = 0\n",
    "    input = initial_input\n",
    "    output = 0\n",
    "    while i < len(program):\n",
    "        opcode, param_modes = parse_code(program[i])\n",
    "        if opcode == 1:\n",
    "            if param_modes[0] == 0:\n",
    "                oprand1 = program[program[i+1]]\n",
    "            else:\n",
    "                oprand1 = program[i+1]\n",
    "            if param_modes[1] == 0:\n",
    "                oprand2 = program[program[i+2]]\n",
    "            else:\n",
    "                oprand2 = program[i+2]\n",
    "            program[program[i+3]] = oprand1 + oprand2\n",
    "            i += 4\n",
    "        elif opcode == 2:\n",
    "            if param_modes[0] == 0:\n",
    "                oprand1 = program[program[i+1]]\n",
    "            else:\n",
    "                oprand1 = program[i+1]\n",
    "            if param_modes[1] == 0:\n",
    "                oprand2 = program[program[i+2]]\n",
    "            else:\n",
    "                oprand2 = program[i+2]\n",
    "            program[program[i+3]] = oprand1 * oprand2\n",
    "            i+=4\n",
    "        elif opcode == 3:\n",
    "            program[program[i+1]] = input\n",
    "            i += 2\n",
    "        elif opcode == 4:\n",
    "            output = program[program[i+1]]\n",
    "            i+=2\n",
    "        elif program[i] == 99:\n",
    "            return output\n",
    "        else:\n",
    "            raise ValueError(f'illegal code {i} {program[i]}')\n",
    "\n",
    "def part1(input_file):\n",
    "    s = read_lines(input_file)[0]\n",
    "    program = parse_program(s)\n",
    "    return run(program, 1)\n",
    "\n",
    "def run2(program, initial_input):\n",
    "    i = 0\n",
    "    input = initial_input\n",
    "    output = 0\n",
    "    while i < len(program):\n",
    "        opcode, param_modes = parse_code(program[i])\n",
    "        if opcode in (1, 2, 5, 6, 7, 8):\n",
    "            if param_modes[0] == 0:\n",
    "                oprand1 = program[program[i+1]]\n",
    "            else:\n",
    "                oprand1 = program[i+1]\n",
    "            if param_modes[1] == 0:\n",
    "                oprand2 = program[program[i+2]]\n",
    "            else:\n",
    "                oprand2 = program[i+2]\n",
    "            if opcode == 1:\n",
    "                program[program[i+3]] = oprand1 + oprand2\n",
    "                i+=4\n",
    "            elif opcode == 2:\n",
    "                program[program[i+3]] = oprand1 * oprand2\n",
    "                i+=4\n",
    "            elif opcode == 5:\n",
    "                if oprand1 != 0:\n",
    "                    i = oprand2\n",
    "                else:\n",
    "                    i += 3\n",
    "            elif opcode == 6:\n",
    "                if oprand1 == 0:\n",
    "                    i = oprand2\n",
    "                else:\n",
    "                    i += 3\n",
    "            elif opcode == 7:\n",
    "                program[program[i+3]] = 1 if oprand1 < oprand2 else 0\n",
    "                i+=4\n",
    "            elif opcode == 8:\n",
    "                program[program[i+3]] = 1 if oprand1 == oprand2 else 0\n",
    "                i+=4\n",
    "        elif opcode ==3 :\n",
    "            program[program[i+1]] = input\n",
    "            i += 2\n",
    "        elif opcode == 4:\n",
    "            if param_modes[0] == 0:\n",
    "                oprand1 = program[program[i+1]]\n",
    "            else:\n",
    "                oprand1 = program[i+1]\n",
    "            output = oprand1\n",
    "            i += 2\n",
    "        elif program[i] == 99:\n",
    "            return output\n",
    "        else:\n",
    "            raise ValueError(f'illegal code {i} {program[i]}')\n",
    "\n",
    "def part2(input_file):\n",
    "    s = read_lines(input_file)[0]\n",
    "    program = parse_program(s)\n",
    "    return run2(program, 5)"
   ]
  },
  {
   "cell_type": "code",
   "execution_count": 69,
   "metadata": {},
   "outputs": [
    {
     "data": {
      "text/plain": [
       "16225258"
      ]
     },
     "execution_count": 69,
     "metadata": {},
     "output_type": "execute_result"
    }
   ],
   "source": [
    "part1('inputs/day5.txt')"
   ]
  },
  {
   "cell_type": "code",
   "execution_count": 70,
   "metadata": {},
   "outputs": [
    {
     "data": {
      "text/plain": [
       "2808771"
      ]
     },
     "execution_count": 70,
     "metadata": {},
     "output_type": "execute_result"
    }
   ],
   "source": [
    "part2('inputs/day5.txt')"
   ]
  },
  {
   "cell_type": "code",
   "execution_count": 71,
   "metadata": {},
   "outputs": [],
   "source": [
    "s = '3,9,8,9,10,9,4,9,99,-1,8'\n",
    "program = parse_program(s)\n",
    "assert run2(program.copy(), 8) == 1\n",
    "assert run2(program, 9) == 0\n",
    "\n",
    "s = '3,9,7,9,10,9,4,9,99,-1,8'\n",
    "program = parse_program(s)\n",
    "assert run2(program.copy(), 7) == 1\n",
    "assert run2(program, 8) == 0\n",
    "\n",
    "s = '3,3,1108,-1,8,3,4,3,99'\n",
    "program = parse_program(s)\n",
    "assert run2(program.copy(), 8) == 1\n",
    "assert run2(program, 9) == 0\n",
    "\n",
    "s = '3,3,1107,-1,8,3,4,3,99'\n",
    "program = parse_program(s)\n",
    "assert run2(program.copy(), 7) == 1\n",
    "assert run2(program, 8) == 0"
   ]
  },
  {
   "cell_type": "code",
   "execution_count": 72,
   "metadata": {},
   "outputs": [],
   "source": [
    "s = '3,12,6,12,15,1,13,14,13,4,13,99,-1,0,1,9'\n",
    "program = parse_program(s)\n",
    "assert run2(program.copy(), 0) == 0\n",
    "assert run2(program, 1) == 1\n",
    "\n",
    "s = '3,3,1105,-1,9,1101,0,0,12,4,12,99,1'\n",
    "program = parse_program(s)\n",
    "assert run2(program.copy(), 0) == 0\n",
    "assert run2(program, 1) == 1"
   ]
  },
  {
   "cell_type": "code",
   "execution_count": 73,
   "metadata": {},
   "outputs": [],
   "source": [
    "s = '3,21,1008,21,8,20,1005,20,22,107,8,21,20,1006,20,31,1106,0,36,98,0,0,1002,21,125,20,4,20,1105,1,46,104,999,1105,1,46,1101,1000,1,20,4,20,1105,1,46,98,99'\n",
    "program = parse_program(s)\n",
    "assert run2(program.copy(), 7) == 999\n",
    "assert run2(program.copy(), 8) == 1000\n",
    "assert run2(program.copy(), 9) == 1001"
   ]
  },
  {
   "cell_type": "code",
   "execution_count": null,
   "metadata": {},
   "outputs": [],
   "source": []
  }
 ],
 "metadata": {
  "kernelspec": {
   "display_name": "Test",
   "language": "python",
   "name": "python3"
  },
  "language_info": {
   "codemirror_mode": {
    "name": "ipython",
    "version": 3
   },
   "file_extension": ".py",
   "mimetype": "text/x-python",
   "name": "python",
   "nbconvert_exporter": "python",
   "pygments_lexer": "ipython3",
   "version": "3.12.2"
  }
 },
 "nbformat": 4,
 "nbformat_minor": 2
}
