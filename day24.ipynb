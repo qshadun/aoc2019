{
 "cells": [
  {
   "cell_type": "code",
   "execution_count": 19,
   "metadata": {},
   "outputs": [],
   "source": [
    "from utils import read_lines\n",
    "\n",
    "\n",
    "deltas = [(-1, 0), (1, 0), (0, -1), (0, 1)]\n",
    "\n",
    "def matrix_to_string(matrix):\n",
    "    return ''.join([''.join(row) for row in matrix])\n",
    "\n",
    "def calc_score(matrix):\n",
    "    s = matrix_to_string(matrix)\n",
    "    ans = 0\n",
    "    for i, c in enumerate(s):\n",
    "        if c == '#':\n",
    "            ans += 2**i\n",
    "    return ans\n",
    "\n",
    "def count_neighbors(matrix, i, j):\n",
    "    ans = 0\n",
    "    for di, dj in deltas:\n",
    "        ni, nj = i+di, j+dj\n",
    "        if 0 <= ni < len(matrix) and 0 <= nj < len(matrix[0]) and matrix[ni][nj] == '#':\n",
    "            ans += 1\n",
    "    return ans\n",
    "\n",
    "def spread(matrix):\n",
    "    new_matrix = [['.'] * 5 for _ in range(5)]\n",
    "    for i in range(5):\n",
    "        for j in range(5):\n",
    "            cnt = count_neighbors(matrix, i, j)\n",
    "            if matrix[i][j] == '#' and cnt == 1:\n",
    "                new_matrix[i][j] = '#'\n",
    "            elif matrix[i][j] == '.' and cnt in (1, 2):\n",
    "                new_matrix[i][j] = '#'\n",
    "    return new_matrix\n",
    "\n",
    "def parse_input(input_file):\n",
    "    matrix = []\n",
    "    for line in read_lines(input_file):\n",
    "        matrix.append([c for c in line])\n",
    "    return matrix\n",
    "\n",
    "def print_matrix(matrix):\n",
    "    for row in matrix:\n",
    "        print(''.join(row))\n",
    "\n",
    "def part1(input_file):\n",
    "    matrix = parse_input(input_file)\n",
    "    seen = set([matrix_to_string(matrix)])\n",
    "    while True:\n",
    "        matrix = spread(matrix)\n",
    "        ms = matrix_to_string(matrix)\n",
    "        if ms in seen:\n",
    "            return calc_score(matrix)\n",
    "        seen.add(ms)\n",
    "\n",
    "def count_row(matrix, i):\n",
    "    ans = 0\n",
    "    for j in range(5):\n",
    "        if matrix[i][j] == '#':\n",
    "            ans += 1\n",
    "    return ans\n",
    "\n",
    "def count_col(matrix, j):\n",
    "    ans = 0\n",
    "    for i in range(5):\n",
    "        if matrix[i][j] == '#':\n",
    "            ans += 1\n",
    "    return ans\n",
    "\n",
    "def count_neighbors2(all_mats, level, i, j):\n",
    "    matrix = all_mats[level]\n",
    "    ans = 0\n",
    "    for di, dj in deltas:\n",
    "        ni, nj = i+di, j+dj\n",
    "        if ni == 2 and nj == 2:\n",
    "            continue\n",
    "        if 0 <= ni < len(matrix) and 0 <= nj < len(matrix[0]) and matrix[ni][nj] == '#':\n",
    "            ans += 1\n",
    "    if level - 1 in all_mats:\n",
    "        if i == 0 and all_mats[level -1][1][2] == '#':\n",
    "            ans += 1\n",
    "        elif i == 4 and all_mats[level -1][3][2] == '#':\n",
    "            ans += 1 \n",
    "        if j == 0 and all_mats[level -1][2][1] == '#':\n",
    "            ans += 1\n",
    "        elif j == 4 and all_mats[level -1][2][3] == '#':\n",
    "            ans += 1\n",
    "    if level + 1 in all_mats:\n",
    "        if i == 1 and j == 2:\n",
    "            ans += count_row(all_mats[level+1], 0)\n",
    "        elif i == 3 and j == 2:\n",
    "            ans += count_row(all_mats[level+1], 4)\n",
    "        elif i == 2 and j == 1:\n",
    "            ans += count_col(all_mats[level+1], 0)\n",
    "        elif i == 2 and j == 3:\n",
    "            ans += count_col(all_mats[level+1], 4)\n",
    "    return ans\n",
    "\n",
    "def spread2(all_mats):\n",
    "    new_all_mats = {\n",
    "        k: [['.'] * 5 for _ in range(5)] for k in all_mats\n",
    "    }\n",
    "    for level, matrix in all_mats.items():\n",
    "        for i in range(5):\n",
    "            for j in range(5):\n",
    "                if i == 2 and j == 2:\n",
    "                    continue\n",
    "                cnt = count_neighbors2(all_mats, level, i, j)\n",
    "                if matrix[i][j] == '#' and cnt == 1:\n",
    "                    new_all_mats[level][i][j] = '#'\n",
    "                elif matrix[i][j] == '.' and cnt in (1, 2):\n",
    "                    new_all_mats[level][i][j] = '#'\n",
    "    min_level, max_level = min(all_mats), max(all_mats)\n",
    "    min_mat, max_mat = all_mats[min_level], all_mats[max_level]\n",
    "    count_up = count_row(min_mat, 0)\n",
    "    count_down = count_row(min_mat, 4)\n",
    "    count_left = count_col(min_mat, 0)\n",
    "    count_right = count_col(min_mat, 4)\n",
    "    if any(c in (1, 2) for c in [count_up, count_down, count_left, count_right]):\n",
    "        new_mat = [['.'] * 5 for _ in range(5)]\n",
    "        if count_up in (1, 2):\n",
    "            new_mat[1][2] = '#'\n",
    "        if count_down in (1, 2):\n",
    "            new_mat[3][2] = '#'\n",
    "        if count_left in (1, 2):\n",
    "            new_mat[2][1] = '#'\n",
    "        if count_right in (1, 2):\n",
    "            new_mat[2][3] = '#'\n",
    "        new_all_mats[min_level - 1] = new_mat\n",
    "\n",
    "    if max_mat[1][2] == '#' or max_mat[3][2] == '#' or max_mat[2][1] == '#' or max_mat[2][3] == '#':\n",
    "        new_mat = [['.'] * 5 for _ in range(5)]\n",
    "        if max_mat[1][2] == '#':\n",
    "            for j in range(5):\n",
    "                new_mat[0][j] = '#'\n",
    "        if max_mat[3][2] == '#':\n",
    "            for j in range(5):\n",
    "                new_mat[4][j] = '#'\n",
    "        if max_mat[2][1] == '#':\n",
    "            for i in range(5):\n",
    "                new_mat[i][0] = '#'\n",
    "        if max_mat[2][3] == '#':\n",
    "            for i in range(5):\n",
    "                new_mat[i][4] = '#'\n",
    "        new_all_mats[max_level + 1] = new_mat\n",
    "    return new_all_mats\n",
    "\n",
    "def count_matrix(matrix):\n",
    "    ans = 0\n",
    "    for i in range(5):\n",
    "        for j in range(5):\n",
    "            if matrix[i][j] == '#':\n",
    "                ans += 1\n",
    "    return ans\n",
    "\n",
    "def part2(input_file, round=200):\n",
    "    matrix = parse_input(input_file)\n",
    "    all_mats = {0: matrix}\n",
    "    for _ in range(round):\n",
    "        all_mats = spread2(all_mats)\n",
    "    return sum(count_matrix(m) for m in all_mats.values())\n"
   ]
  },
  {
   "cell_type": "code",
   "execution_count": 14,
   "metadata": {},
   "outputs": [
    {
     "data": {
      "text/plain": [
       "2129920"
      ]
     },
     "execution_count": 14,
     "metadata": {},
     "output_type": "execute_result"
    }
   ],
   "source": [
    "part1('inputs/day24_test.txt')"
   ]
  },
  {
   "cell_type": "code",
   "execution_count": 12,
   "metadata": {},
   "outputs": [
    {
     "data": {
      "text/plain": [
       "18370591"
      ]
     },
     "execution_count": 12,
     "metadata": {},
     "output_type": "execute_result"
    }
   ],
   "source": [
    "part1('inputs/day24.txt')"
   ]
  },
  {
   "cell_type": "code",
   "execution_count": 20,
   "metadata": {},
   "outputs": [
    {
     "data": {
      "text/plain": [
       "99"
      ]
     },
     "execution_count": 20,
     "metadata": {},
     "output_type": "execute_result"
    }
   ],
   "source": [
    "part2('inputs/day24_test.txt', 10)"
   ]
  },
  {
   "cell_type": "code",
   "execution_count": 21,
   "metadata": {},
   "outputs": [
    {
     "data": {
      "text/plain": [
       "2040"
      ]
     },
     "execution_count": 21,
     "metadata": {},
     "output_type": "execute_result"
    }
   ],
   "source": [
    "part2('inputs/day24.txt')"
   ]
  },
  {
   "cell_type": "code",
   "execution_count": null,
   "metadata": {},
   "outputs": [],
   "source": []
  }
 ],
 "metadata": {
  "kernelspec": {
   "display_name": "Test",
   "language": "python",
   "name": "python3"
  },
  "language_info": {
   "codemirror_mode": {
    "name": "ipython",
    "version": 3
   },
   "file_extension": ".py",
   "mimetype": "text/x-python",
   "name": "python",
   "nbconvert_exporter": "python",
   "pygments_lexer": "ipython3",
   "version": "3.12.2"
  }
 },
 "nbformat": 4,
 "nbformat_minor": 2
}
