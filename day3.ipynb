{
 "cells": [
  {
   "cell_type": "code",
   "execution_count": 20,
   "metadata": {},
   "outputs": [],
   "source": [
    "from utils import read_lines\n",
    "\n",
    "def get_points(line):\n",
    "    x, y = 0, 0\n",
    "    vertical_line = []\n",
    "    horizontal_line = []\n",
    "    for path in line.split(','):\n",
    "        num = int(path[1:])\n",
    "        match path[0]:\n",
    "            case 'L':\n",
    "                horizontal_line.append([y, [x-num, x]])\n",
    "                x -= num\n",
    "            case 'R':\n",
    "                horizontal_line.append([y, [x, x+num]])\n",
    "                x += num\n",
    "            case 'U':\n",
    "                vertical_line.append([x, [y, y+num]])\n",
    "                y += num\n",
    "            case 'D':\n",
    "                vertical_line.append([x, [y-num, y]])\n",
    "                y -= num\n",
    "    # vertical_line.sort()\n",
    "    # horizontal_line.sort()\n",
    "    return vertical_line, horizontal_line\n",
    "\n",
    "def part1(input_file):\n",
    "    lines = read_lines(input_file)\n",
    "    v1, h1 = get_points(lines[0])\n",
    "    v2, h2 = get_points(lines[1])\n",
    "    ans = float('inf')\n",
    "    for y1, [x11, x12 ]in h1:\n",
    "        for x2, [y21, y22] in v2:\n",
    "            if y21 <= y1 <= y22 and x11 <= x2 < x12:\n",
    "                if x2 or y1:\n",
    "                    ans = min(abs(x2) + abs(y1), ans)\n",
    "    for x1, [y11, y12] in v1:\n",
    "        for y2, [x21, x22] in h2:\n",
    "            if x21 <= x1 <= x22 and y11 <= y2 < y12:\n",
    "                if x1 or y2:\n",
    "                    ans = min(abs(x1) + abs(y2), ans)\n",
    "    return ans\n",
    "\n",
    "\n",
    "def count_steps(line, points):\n",
    "    ans = {}\n",
    "    x, y = 0, 0\n",
    "    cur_steps = 0\n",
    "    for path in line.split(','):\n",
    "        num = int(path[1:])\n",
    "        match path[0]:\n",
    "            case 'L':\n",
    "                for x1, y1 in points:\n",
    "                    if (x1, y1) not in ans and x -num <= x1 <= x and y1 == y:\n",
    "                        ans[(x1, y1)] = abs(x - x1) + cur_steps \n",
    "                x -= num\n",
    "            case 'R':\n",
    "                for x1, y1 in points:\n",
    "                    if (x1, y1) not in ans and x <= x1 <= x + num and y1 == y:\n",
    "                        ans[(x1, y1)] = abs(x - x1) + cur_steps \n",
    "                x += num\n",
    "            case 'U':\n",
    "                for x1, y1 in points:\n",
    "                    if (x1, y1) not in ans and y <= y1 <= y + num and x1 == x:\n",
    "                        ans[(x1, y1)] = abs(y - y1) + cur_steps \n",
    "                y += num\n",
    "            case 'D':\n",
    "                for x1, y1 in points:\n",
    "                    if (x1, y1) not in ans and y -num <= y1 <= y and x1 == x:\n",
    "                        ans[(x1, y1)] = abs(y - y1) + cur_steps \n",
    "                y -= num\n",
    "        cur_steps += num\n",
    "    return ans\n",
    "\n",
    "def part2(input_file):\n",
    "    lines = read_lines(input_file)\n",
    "    v1, h1 = get_points(lines[0])\n",
    "    v2, h2 = get_points(lines[1])\n",
    "    intersect_points = set()\n",
    "    for y1, [x11, x12 ]in h1:\n",
    "        for x2, [y21, y22] in v2:\n",
    "            if y21 <= y1 <= y22 and x11 <= x2 < x12:\n",
    "                if x2 or y1:\n",
    "                    intersect_points.add((x2, y1))\n",
    "    for x1, [y11, y12] in v1:\n",
    "        for y2, [x21, x22] in h2:\n",
    "            if x21 <= x1 <= x22 and y11 <= y2 < y12:\n",
    "                if x1 or y2:\n",
    "                    intersect_points.add((x1, y2))\n",
    "    min_steps1 = count_steps(lines[0], intersect_points)\n",
    "    min_steps2 = count_steps(lines[1], intersect_points)\n",
    "\n",
    "    return min(min_steps1[x] + min_steps2[x] for x in intersect_points)"
   ]
  },
  {
   "cell_type": "code",
   "execution_count": 15,
   "metadata": {},
   "outputs": [
    {
     "data": {
      "text/plain": [
       "159"
      ]
     },
     "execution_count": 15,
     "metadata": {},
     "output_type": "execute_result"
    }
   ],
   "source": [
    "part1('inputs/day3_test.txt')"
   ]
  },
  {
   "cell_type": "code",
   "execution_count": 16,
   "metadata": {},
   "outputs": [
    {
     "data": {
      "text/plain": [
       "2129"
      ]
     },
     "execution_count": 16,
     "metadata": {},
     "output_type": "execute_result"
    }
   ],
   "source": [
    "part1('inputs/day3.txt')"
   ]
  },
  {
   "cell_type": "code",
   "execution_count": 21,
   "metadata": {},
   "outputs": [
    {
     "data": {
      "text/plain": [
       "610"
      ]
     },
     "execution_count": 21,
     "metadata": {},
     "output_type": "execute_result"
    }
   ],
   "source": [
    "part2('inputs/day3_test.txt')"
   ]
  },
  {
   "cell_type": "code",
   "execution_count": 22,
   "metadata": {},
   "outputs": [
    {
     "data": {
      "text/plain": [
       "134662"
      ]
     },
     "execution_count": 22,
     "metadata": {},
     "output_type": "execute_result"
    }
   ],
   "source": [
    "part2('inputs/day3.txt')"
   ]
  },
  {
   "cell_type": "code",
   "execution_count": null,
   "metadata": {},
   "outputs": [],
   "source": []
  }
 ],
 "metadata": {
  "kernelspec": {
   "display_name": "Test",
   "language": "python",
   "name": "python3"
  },
  "language_info": {
   "codemirror_mode": {
    "name": "ipython",
    "version": 3
   },
   "file_extension": ".py",
   "mimetype": "text/x-python",
   "name": "python",
   "nbconvert_exporter": "python",
   "pygments_lexer": "ipython3",
   "version": "3.12.2"
  }
 },
 "nbformat": 4,
 "nbformat_minor": 2
}
