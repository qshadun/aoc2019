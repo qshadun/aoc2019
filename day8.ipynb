{
 "cells": [
  {
   "cell_type": "code",
   "execution_count": 5,
   "metadata": {},
   "outputs": [],
   "source": [
    "from utils import read_lines\n",
    "from collections import Counter\n",
    "\n",
    "def part1(input_file):\n",
    "    line = read_lines(input_file)[0]\n",
    "    layers = []\n",
    "    min_0_cnt = 150\n",
    "    ans = 0\n",
    "    for i in range(0, len(line), 150):\n",
    "        counter = Counter(line[i:i+150])\n",
    "        if counter['0'] < min_0_cnt:\n",
    "            min_0_cnt = counter['0']\n",
    "            ans = counter['1'] * counter['2']\n",
    "    return ans\n",
    "\n",
    "def part2(input_file):\n",
    "    line = read_lines(input_file)[0]\n",
    "    ans = [None] * 150\n",
    "    for i in range(150):\n",
    "        for j in range(len(line)//150):\n",
    "            if line[i+j*150] != '2':\n",
    "                ans[i] = line[i+j*150]\n",
    "                break\n",
    "    for i in range(0, 150, 25):\n",
    "        print(''.join(ans[i:i+25]))\n",
    "    return ''.join(ans)"
   ]
  },
  {
   "cell_type": "code",
   "execution_count": 2,
   "metadata": {},
   "outputs": [
    {
     "data": {
      "text/plain": [
       "1820"
      ]
     },
     "execution_count": 2,
     "metadata": {},
     "output_type": "execute_result"
    }
   ],
   "source": [
    "part1('inputs/day8.txt')"
   ]
  },
  {
   "cell_type": "code",
   "execution_count": 6,
   "metadata": {},
   "outputs": [
    {
     "name": "stdout",
     "output_type": "stream",
     "text": [
      "1111010010100100110000110\n",
      "0001010010101001001000010\n",
      "0010010010110001000000010\n",
      "0100010010101001000000010\n",
      "1000010010101001001010010\n",
      "1111001100100100110001100\n"
     ]
    },
    {
     "data": {
      "text/plain": [
       "'111101001010010011000011000010100101010010010000100010010010110001000000010010001001010100100000001010000100101010010010100101111001100100100110001100'"
      ]
     },
     "execution_count": 6,
     "metadata": {},
     "output_type": "execute_result"
    }
   ],
   "source": [
    "part2('inputs/day8.txt')"
   ]
  },
  {
   "cell_type": "code",
   "execution_count": 8,
   "metadata": {},
   "outputs": [
    {
     "name": "stdout",
     "output_type": "stream",
     "text": [
      "ZUKCJ\n"
     ]
    }
   ],
   "source": [
    "print('ZUKCJ')"
   ]
  },
  {
   "cell_type": "code",
   "execution_count": null,
   "metadata": {},
   "outputs": [],
   "source": []
  }
 ],
 "metadata": {
  "kernelspec": {
   "display_name": "Test",
   "language": "python",
   "name": "python3"
  },
  "language_info": {
   "codemirror_mode": {
    "name": "ipython",
    "version": 3
   },
   "file_extension": ".py",
   "mimetype": "text/x-python",
   "name": "python",
   "nbconvert_exporter": "python",
   "pygments_lexer": "ipython3",
   "version": "3.12.2"
  }
 },
 "nbformat": 4,
 "nbformat_minor": 2
}
