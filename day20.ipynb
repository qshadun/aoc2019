{
 "cells": [
  {
   "cell_type": "code",
   "execution_count": 16,
   "metadata": {},
   "outputs": [],
   "source": [
    "from utils import read_lines\n",
    "from collections import defaultdict, deque\n",
    "\n",
    "def parse_input(input_file):\n",
    "    lines = read_lines(input_file)\n",
    "    # for line in lines:\n",
    "    #     print(line)\n",
    "    m = len(lines)\n",
    "    n = len(lines[0])\n",
    "    labels = defaultdict(list)\n",
    "    for j in range(n):\n",
    "        if lines[0][j] != ' ':\n",
    "            label = lines[0][j] + lines[1][j]\n",
    "            labels[label].append((2, j))\n",
    "        if lines[m-1][j] != ' ':\n",
    "            label = lines[m-2][j] + lines[m-1][j]\n",
    "            labels[label].append((m-3, j))\n",
    "    for i in range(m):\n",
    "        if lines[i][0] != ' ':\n",
    "            label = lines[i][0] + lines[i][1]\n",
    "            labels[label].append((i, 2))\n",
    "        if lines[i][n-1] != ' ':\n",
    "            label = lines[i][n-2] + lines[i][n-1]\n",
    "            labels[label].append((i, n-3))\n",
    "    for i in range(2, m-2):\n",
    "        for j in range(2, n-2):\n",
    "            if 'A' <= lines[i][j] <= 'Z':\n",
    "                if lines[i-1][j] == '.' and 'A' <= lines[i+1][j] <= 'Z':\n",
    "                    label = lines[i][j] + lines[i+1][j]\n",
    "                    labels[label].append((i-1, j))\n",
    "                elif lines[i+2][j] == '.' and 'A' <= lines[i+1][j] <= 'Z':\n",
    "                    label = lines[i][j] + lines[i+1][j]\n",
    "                    labels[label].append((i+2, j))\n",
    "                elif lines[i][j+2] == '.' and 'A' <= lines[i][j+1] <= 'Z':\n",
    "                    label = lines[i][j] + lines[i][j+1]\n",
    "                    labels[label].append((i, j+2))\n",
    "                elif lines[i][j-1] == '.' and 'A' <= lines[i][j+1] <= 'Z':\n",
    "                    label = lines[i][j] + lines[i][j+1]\n",
    "                    labels[label].append((i, j-1))\n",
    "    return lines, labels\n",
    "\n",
    "deltas = [(-1, 0), (1, 0), (0, -1), (0, 1)]\n",
    "\n",
    "def part1(input_file):\n",
    "    matrix, labels = parse_input(input_file)\n",
    "    start = labels['AA'][0]\n",
    "    end = labels['ZZ'][0]\n",
    "    portals = {}\n",
    "    for _, points in labels.items():\n",
    "        if len(points) == 2:\n",
    "            p1, p2 = points\n",
    "            portals[p1] = p2\n",
    "            portals[p2] = p1\n",
    "    \n",
    "    m, n = len(matrix), len(matrix[0])\n",
    "    visited = set([start])\n",
    "    q = deque([start])\n",
    "    step = 0\n",
    "    while q:\n",
    "        cur_len = len(q)\n",
    "        for _ in range(cur_len):\n",
    "            x, y = q.popleft()\n",
    "            if (x, y) == end:\n",
    "                return step\n",
    "            for dx, dy in deltas:\n",
    "                nx, ny = x+dx, y+dy\n",
    "                if 0 <= nx < m and 0 <= ny < n and matrix[x][y] == '.' and (nx, ny) not in visited:\n",
    "                    q.append((nx, ny))\n",
    "                    visited.add((nx, ny))\n",
    "            if (x, y) in portals:\n",
    "                nx, ny = portals[(x, y)]\n",
    "                if (nx, ny) not in visited:\n",
    "                    q.append((nx, ny))\n",
    "                    visited.add((nx, ny))\n",
    "        step += 1\n",
    "    \n",
    "\n",
    "    "
   ]
  },
  {
   "cell_type": "code",
   "execution_count": 15,
   "metadata": {},
   "outputs": [
    {
     "name": "stdout",
     "output_type": "stream",
     "text": [
      "37 35\n",
      "defaultdict(<class 'list'>, {'BU': [(34, 11), (21, 26)], 'JP': [(34, 15), (28, 21)], 'AA': [(2, 19)], 'CP': [(34, 19), (8, 21)], 'VT': [(11, 32), (23, 26)], 'DI': [(15, 2), (21, 8)], 'ZZ': [(17, 2)], 'AS': [(17, 32), (8, 17)], 'JO': [(19, 2), (28, 13)], 'LF': [(21, 32), (28, 15)], 'YN': [(23, 2), (13, 26)], 'QG': [(23, 32), (17, 26)]})\n"
     ]
    }
   ],
   "source": [
    "matrix, labels = parse_input('inputs/day20_test.txt')\n",
    "print(len(matrix), len(matrix[0]))\n",
    "print(labels)"
   ]
  },
  {
   "cell_type": "code",
   "execution_count": 17,
   "metadata": {},
   "outputs": [
    {
     "data": {
      "text/plain": [
       "58"
      ]
     },
     "execution_count": 17,
     "metadata": {},
     "output_type": "execute_result"
    }
   ],
   "source": [
    "part1('inputs/day20_test.txt')"
   ]
  },
  {
   "cell_type": "code",
   "execution_count": 18,
   "metadata": {},
   "outputs": [
    {
     "data": {
      "text/plain": [
       "596"
      ]
     },
     "execution_count": 18,
     "metadata": {},
     "output_type": "execute_result"
    }
   ],
   "source": [
    "part1('inputs/day20.txt')"
   ]
  },
  {
   "cell_type": "code",
   "execution_count": 19,
   "metadata": {},
   "outputs": [],
   "source": [
    "\n",
    "def part2(input_file):\n",
    "    matrix, labels = parse_input(input_file)\n",
    "    start = labels['AA'][0]\n",
    "    end = labels['ZZ'][0]\n",
    "    portals = {}\n",
    "    for _, points in labels.items():\n",
    "        if len(points) == 2:\n",
    "            p1, p2 = points\n",
    "            portals[p1] = p2\n",
    "            portals[p2] = p1\n",
    "    \n",
    "    m, n = len(matrix), len(matrix[0])\n",
    "    visited = set((start, 0))\n",
    "    q = deque([(start, 0)])\n",
    "    step = 0\n",
    "\n",
    "    def is_outer(x, y):\n",
    "        return x in (2, m-3) or y in (2, n-3)\n",
    "    \n",
    "    while q:\n",
    "        cur_len = len(q)\n",
    "        for _ in range(cur_len):\n",
    "            (x, y), level = q.popleft()\n",
    "            if (x, y) == end and level == 0:\n",
    "                return step\n",
    "            for dx, dy in deltas:\n",
    "                nx, ny = x+dx, y+dy\n",
    "                if 0 <= nx < m and 0 <= ny < n and matrix[x][y] == '.' and ((nx, ny), level) not in visited:\n",
    "                    q.append(((nx, ny), level))\n",
    "                    visited.add(((nx, ny), level))\n",
    "            if (x, y) in portals and (level > 0 or not is_outer(x, y)):\n",
    "                nx, ny = portals[(x, y)]\n",
    "                if is_outer(x, y):\n",
    "                    n_level = level - 1\n",
    "                else:\n",
    "                    n_level = level + 1\n",
    "                if ((nx, ny), n_level) not in visited:\n",
    "                    q.append(((nx, ny), n_level))\n",
    "                    visited.add(((nx, ny), n_level))\n",
    "        step += 1"
   ]
  },
  {
   "cell_type": "code",
   "execution_count": 20,
   "metadata": {},
   "outputs": [
    {
     "data": {
      "text/plain": [
       "396"
      ]
     },
     "execution_count": 20,
     "metadata": {},
     "output_type": "execute_result"
    }
   ],
   "source": [
    "part2('inputs/day20_test2.txt')"
   ]
  },
  {
   "cell_type": "code",
   "execution_count": 21,
   "metadata": {},
   "outputs": [
    {
     "data": {
      "text/plain": [
       "7610"
      ]
     },
     "execution_count": 21,
     "metadata": {},
     "output_type": "execute_result"
    }
   ],
   "source": [
    "part2('inputs/day20.txt')"
   ]
  },
  {
   "cell_type": "code",
   "execution_count": null,
   "metadata": {},
   "outputs": [],
   "source": []
  }
 ],
 "metadata": {
  "kernelspec": {
   "display_name": "Test",
   "language": "python",
   "name": "python3"
  },
  "language_info": {
   "codemirror_mode": {
    "name": "ipython",
    "version": 3
   },
   "file_extension": ".py",
   "mimetype": "text/x-python",
   "name": "python",
   "nbconvert_exporter": "python",
   "pygments_lexer": "ipython3",
   "version": "3.12.2"
  }
 },
 "nbformat": 4,
 "nbformat_minor": 2
}
