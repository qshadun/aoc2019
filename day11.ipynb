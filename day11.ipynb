{
 "cells": [
  {
   "cell_type": "code",
   "execution_count": 30,
   "metadata": {},
   "outputs": [],
   "source": [
    "from utils import read_lines\n",
    "from collections import defaultdict\n",
    "\n",
    "deltas = {\n",
    "    'up': (-1, 0),\n",
    "    'down': (1, 0),\n",
    "    'left': (0, -1),\n",
    "    'right': (0, 1),\n",
    "}\n",
    "\n",
    "left_turn = {\n",
    "    'up': 'left',\n",
    "    'left': 'down',\n",
    "    'down': 'right',\n",
    "    'right': 'up',\n",
    "}\n",
    "\n",
    "right_turn = {\n",
    "    'up': 'right',\n",
    "    'right': 'down',\n",
    "    'down': 'left',\n",
    "    'left': 'up',\n",
    "}\n",
    "\n",
    "def move(pos, dirction):\n",
    "    y, x = pos\n",
    "    dy, dx = deltas[dirction]\n",
    "    return (y+dy, x+dx)\n",
    "\n",
    "def parse_program(s):\n",
    "    return [int(x) for x in s.split(',')]\n",
    "\n",
    "def parse_code(num):\n",
    "    if num == 99:\n",
    "        return num, [0]\n",
    "    else:\n",
    "        digits = []\n",
    "        while num > 0:\n",
    "            digits.append(num % 10)\n",
    "            num //=10\n",
    "        digits += [0] * (5-len(digits))\n",
    "        opcode = digits[0]\n",
    "        param_modes = digits[2:]\n",
    "        return opcode, param_modes\n",
    "\n",
    "def run(program, input=0):\n",
    "    i = 0\n",
    "    cur_output = []\n",
    "    outputs = []\n",
    "    extend_memory = defaultdict(int)\n",
    "    relative_base = 0\n",
    "\n",
    "    cur_pos = (0, 0)\n",
    "    cur_direction = 'up'\n",
    "    painted = defaultdict(int)\n",
    "    painted[cur_pos] = input\n",
    "\n",
    "    def read_memory(addr):\n",
    "        if addr < len(program):\n",
    "            return program[addr]\n",
    "        else:\n",
    "            return extend_memory[addr]\n",
    "        \n",
    "    def write_memory(idx, value, mode):\n",
    "        addr = program[idx]\n",
    "        if mode == 2:\n",
    "            addr = relative_base + addr\n",
    "        if addr < len(program):\n",
    "            program[addr] = value\n",
    "        else:\n",
    "            extend_memory[addr] = value\n",
    "    \n",
    "    def get_oprand(idx, mode):\n",
    "        if mode == 1:\n",
    "            return program[idx]\n",
    "        if mode == 2:\n",
    "            addr = relative_base + program[idx]\n",
    "        else:\n",
    "            addr = program[idx]\n",
    "        return read_memory(addr)\n",
    "\n",
    "    while i < len(program):\n",
    "        opcode, param_modes = parse_code(program[i])\n",
    "        if opcode in (1, 2, 5, 6, 7, 8):\n",
    "            oprand1 = get_oprand(i+1, param_modes[0])\n",
    "            oprand2 = get_oprand(i+2, param_modes[1])\n",
    "    \n",
    "            if opcode == 1:\n",
    "                write_memory(i+3, oprand1 + oprand2, param_modes[2])\n",
    "                i+=4\n",
    "            elif opcode == 2:\n",
    "                write_memory(i+3, oprand1 * oprand2, param_modes[2])\n",
    "                i+=4\n",
    "            elif opcode == 5:\n",
    "                if oprand1 != 0:\n",
    "                    i = oprand2\n",
    "                else:\n",
    "                    i += 3\n",
    "            elif opcode == 6:\n",
    "                if oprand1 == 0:\n",
    "                    i = oprand2\n",
    "                else:\n",
    "                    i += 3\n",
    "            elif opcode == 7:\n",
    "                write_memory(i+3, 1 if oprand1 < oprand2 else 0, param_modes[2])\n",
    "                i+=4\n",
    "            elif opcode == 8:\n",
    "                write_memory(i+3, 1 if oprand1 == oprand2 else 0, param_modes[2])\n",
    "                i+=4\n",
    "        elif opcode ==3 :\n",
    "            write_memory(i+1, painted[cur_pos], param_modes[0])\n",
    "            i += 2\n",
    "        elif opcode == 4:\n",
    "            oprand1 = get_oprand(i+1, param_modes[0])\n",
    "            cur_output.append(oprand1)\n",
    "            assert oprand1 in (0, 1)\n",
    "            if len(cur_output) == 1:\n",
    "                painted[cur_pos] = oprand1\n",
    "            else:\n",
    "                outputs.append(cur_output)\n",
    "                cur_output = []\n",
    "                if oprand1 == 0:\n",
    "                    cur_direction = left_turn[cur_direction]\n",
    "                else:\n",
    "                    cur_direction = right_turn[cur_direction]\n",
    "                cur_pos = move(cur_pos, cur_direction)\n",
    "            i += 2\n",
    "        elif opcode == 9:\n",
    "            oprand1 = get_oprand(i+1, param_modes[0])\n",
    "            relative_base += oprand1\n",
    "            i+=2\n",
    "        elif program[i] == 99:\n",
    "            return outputs, painted\n",
    "        else:\n",
    "            raise ValueError(f'illegal code {i} {program[i]}')\n",
    "        \n",
    "def part1(input_file):\n",
    "    s = read_lines(input_file)[0]\n",
    "    program = parse_program(s)\n",
    "    outputs, painted = run(program)\n",
    "    return len(painted)\n",
    "\n",
    "def part2(input_file):\n",
    "    s = read_lines(input_file)[0]\n",
    "    program = parse_program(s)\n",
    "    outputs, painted = run(program, 1)\n",
    "    # print(outputs)\n",
    "    # print(painted)\n",
    "    min_row, max_row, min_col, max_col = 0, 0, 0, 0\n",
    "    for r, c in painted:\n",
    "        min_row = min(r, min_row)\n",
    "        max_row = max(r, max_row)\n",
    "        min_col = min(c, min_col)\n",
    "        max_col = max(c, max_col)\n",
    "    height, width = max_row - min_row + 1, max_col - min_col + 1\n",
    "    board = [[0] * width for _ in range(height)]\n",
    "    for (y, x), c in painted.items():\n",
    "        board[y-min_row][x-min_col] = c\n",
    "    for row in board:\n",
    "        print(''.join([str(c) for c in row]))"
   ]
  },
  {
   "cell_type": "code",
   "execution_count": 31,
   "metadata": {},
   "outputs": [
    {
     "data": {
      "text/plain": [
       "1894"
      ]
     },
     "execution_count": 31,
     "metadata": {},
     "output_type": "execute_result"
    }
   ],
   "source": [
    "part1('inputs/day11.txt')"
   ]
  },
  {
   "cell_type": "code",
   "execution_count": 32,
   "metadata": {},
   "outputs": [
    {
     "name": "stdout",
     "output_type": "stream",
     "text": [
      "0001101001011110100001111000110111001001000\n",
      "0000101010000010100000001000010100101001000\n",
      "0000101100000100100000010000010111001111000\n",
      "0000101010001000100000100000010100101001000\n",
      "0100101010010000100001000010010100101001000\n",
      "0011001001011110111101111001100111001001000\n"
     ]
    }
   ],
   "source": [
    "part2('inputs/day11.txt')"
   ]
  },
  {
   "cell_type": "code",
   "execution_count": 33,
   "metadata": {},
   "outputs": [
    {
     "name": "stdout",
     "output_type": "stream",
     "text": [
      "JKZLZJBH\n"
     ]
    }
   ],
   "source": [
    "print('JKZLZJBH')"
   ]
  },
  {
   "cell_type": "code",
   "execution_count": null,
   "metadata": {},
   "outputs": [],
   "source": []
  }
 ],
 "metadata": {
  "kernelspec": {
   "display_name": "Test",
   "language": "python",
   "name": "python3"
  },
  "language_info": {
   "codemirror_mode": {
    "name": "ipython",
    "version": 3
   },
   "file_extension": ".py",
   "mimetype": "text/x-python",
   "name": "python",
   "nbconvert_exporter": "python",
   "pygments_lexer": "ipython3",
   "version": "3.12.2"
  }
 },
 "nbformat": 4,
 "nbformat_minor": 2
}
