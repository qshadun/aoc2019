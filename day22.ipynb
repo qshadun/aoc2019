{
 "cells": [
  {
   "cell_type": "code",
   "execution_count": 36,
   "metadata": {},
   "outputs": [],
   "source": [
    "from utils import read_lines\n",
    "\n",
    "def deal_incr(deck, space):\n",
    "    n = len(deck)\n",
    "    ans = [None] * n\n",
    "    pos = 0\n",
    "    for card in deck:\n",
    "        ans[pos] = card\n",
    "        pos = (pos + space) % n\n",
    "    return ans\n",
    "\n",
    "def deal(deck):\n",
    "    return deck[::-1]\n",
    "\n",
    "def cut(deck, num):\n",
    "    if num > 0:\n",
    "        return deck[num:] + deck[:num]\n",
    "    else:\n",
    "        return deck[num:] + deck[:num]\n",
    "\n",
    "def part1(input_file):\n",
    "    lines = read_lines(input_file)\n",
    "    deck = list(range(10007))\n",
    "    for line in lines:\n",
    "        if line == 'deal into new stack':\n",
    "            deck = deal(deck)\n",
    "        else:\n",
    "            parts = line.split(' ')\n",
    "            if len(parts) == 2:\n",
    "                deck = cut(deck, int(parts[-1]))\n",
    "            else:\n",
    "                deck = deal_incr(deck, int(parts[-1]))\n",
    "    return deck.index(2019)\n",
    "\n",
    "\n",
    "CARD_COUNT = 119315717514047\n",
    "\n",
    "TOTAL_ROUND = 101741582076661\n",
    "\n",
    "def find_pos_deal(card_count, cur_pos):\n",
    "    return card_count - 1 - cur_pos\n",
    "\n",
    "def find_pos_cut(card_count, cur_pos, num):\n",
    "    if num > 0:\n",
    "        if cur_pos < num:\n",
    "            return card_count - num + cur_pos\n",
    "        else:\n",
    "            return cur_pos - num\n",
    "    else:\n",
    "        if cur_pos < card_count + num:\n",
    "            return cur_pos - num\n",
    "        else:\n",
    "            return cur_pos - (card_count + num)\n",
    "\n",
    "def find_pos_deal_incr(card_count, cur_pos, space):\n",
    "    return cur_pos * space % card_count\n",
    "\n",
    "\n",
    "def one_round(instructions, card_count, cur_pos):\n",
    "    for line in instructions:\n",
    "        if line == 'deal into new stack':\n",
    "            cur_pos = find_pos_deal(card_count, cur_pos)\n",
    "        else:\n",
    "            parts = line.split(' ')\n",
    "            if len(parts) == 2:\n",
    "                cur_pos = find_pos_cut(card_count, cur_pos, int(parts[-1]))\n",
    "            else:\n",
    "                cur_pos = find_pos_deal_incr(card_count, cur_pos, int(parts[-1]))\n",
    "    return cur_pos\n",
    "\n",
    "def part2(input_file):\n",
    "    lines = read_lines(input_file)\n",
    "    \n",
    "    cur_pos = 2020\n",
    "    seen = {\n",
    "        cur_pos: 0\n",
    "    }\n",
    "    for _ in range(10000000):\n",
    "        cur_pos = one_round(lines, CARD_COUNT, cur_pos)\n",
    "        if cur_pos in seen:\n",
    "            print(seen[cur_pos], len(seen))\n",
    "            break\n",
    "\n",
    "        seen[cur_pos] = len(seen)\n",
    "    # print(seen)\n"
   ]
  },
  {
   "cell_type": "code",
   "execution_count": 8,
   "metadata": {},
   "outputs": [
    {
     "data": {
      "text/plain": [
       "6831"
      ]
     },
     "execution_count": 8,
     "metadata": {},
     "output_type": "execute_result"
    }
   ],
   "source": [
    "part1('inputs/day22.txt')"
   ]
  },
  {
   "cell_type": "code",
   "execution_count": 37,
   "metadata": {},
   "outputs": [],
   "source": [
    "part2('inputs/day22.txt')"
   ]
  },
  {
   "cell_type": "code",
   "execution_count": 5,
   "metadata": {},
   "outputs": [],
   "source": [
    "deck = list(range(10))\n",
    "assert cut(deck, 3) == [3,4,5,6,7,8,9,0,1,2]\n",
    "\n",
    "deck = list(range(10))\n",
    "assert cut(deck, -4) == [6,7,8,9,0,1,2,3,4,5]\n",
    "\n",
    "deck = list(range(10))\n",
    "assert deal_incr(deck, 3) == [0,7,4,1,8,5,2,9,6,3]"
   ]
  },
  {
   "cell_type": "code",
   "execution_count": 40,
   "metadata": {},
   "outputs": [
    {
     "name": "stdout",
     "output_type": "stream",
     "text": [
      "Card at #2020: 81781678911487\n"
     ]
    }
   ],
   "source": [
    "m = 119315717514047\n",
    "n = 101741582076661\n",
    "pos = 2020\n",
    "shuffles = { 'deal with increment ': lambda x,m,a,b: (a*x %m, b*x %m),\n",
    "         'deal into new stack': lambda _,m,a,b: (-a %m, (m-1-b)%m),\n",
    "         'cut ': lambda x,m,a,b: (a, (b-x)%m) }\n",
    "a,b = 1,0\n",
    "with open('inputs/day22.txt') as f:\n",
    "  for s in f.read().strip().split('\\n'):\n",
    "    for name,fn in shuffles.items():\n",
    "      if s.startswith(name):\n",
    "        arg = int(s[len(name):]) if name[-1] == ' ' else 0\n",
    "        a,b = fn(arg, m, a, b)\n",
    "        break\n",
    "r = (b * pow(1-a, m-2, m)) % m\n",
    "print(f\"Card at #{pos}: {((pos - r) * pow(a, n*(m-2), m) + r) % m}\")"
   ]
  },
  {
   "cell_type": "code",
   "execution_count": null,
   "metadata": {},
   "outputs": [],
   "source": []
  }
 ],
 "metadata": {
  "kernelspec": {
   "display_name": "Test",
   "language": "python",
   "name": "python3"
  },
  "language_info": {
   "codemirror_mode": {
    "name": "ipython",
    "version": 3
   },
   "file_extension": ".py",
   "mimetype": "text/x-python",
   "name": "python",
   "nbconvert_exporter": "python",
   "pygments_lexer": "ipython3",
   "version": "3.12.2"
  }
 },
 "nbformat": 4,
 "nbformat_minor": 2
}
