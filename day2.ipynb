{
 "cells": [
  {
   "cell_type": "code",
   "execution_count": 12,
   "metadata": {},
   "outputs": [],
   "source": [
    "from utils import read_lines\n",
    "\n",
    "def parse_program(s):\n",
    "    return [int(x) for x in s.split(',')]\n",
    "\n",
    "def run(program):\n",
    "    i = 0\n",
    "    for i in range(0, len(program), 4):\n",
    "        if program[i] == 1:\n",
    "            program[program[i+3]] = program[program[i+1]] + program[program[i+2]]\n",
    "        elif program[i] == 2:\n",
    "            program[program[i+3]] = program[program[i+1]] * program[program[i+2]]\n",
    "        elif program[i] == 99:\n",
    "            return program[0]\n",
    "        else:\n",
    "            raise ValueError(f'illegal code {i} {program[i]}')\n",
    "\n",
    "def part1(input_file):\n",
    "    s = read_lines(input_file)[0]\n",
    "    program = parse_program(s)\n",
    "    program[1] = 12\n",
    "    program[2] = 2\n",
    "    return run(program)\n",
    "\n",
    "def part2(input_file):\n",
    "    s = read_lines(input_file)[0]\n",
    "    original_program = parse_program(s)\n",
    "    for noun in range(100):\n",
    "        for verb in range(100):\n",
    "            program = original_program[:]\n",
    "            program[1] = noun\n",
    "            program[2] = verb\n",
    "            if run(program) == 19690720:\n",
    "                return 100 * noun + verb"
   ]
  },
  {
   "cell_type": "code",
   "execution_count": 11,
   "metadata": {},
   "outputs": [
    {
     "data": {
      "text/plain": [
       "3716293"
      ]
     },
     "execution_count": 11,
     "metadata": {},
     "output_type": "execute_result"
    }
   ],
   "source": [
    "part1('inputs/day2.txt')"
   ]
  },
  {
   "cell_type": "code",
   "execution_count": 13,
   "metadata": {},
   "outputs": [
    {
     "data": {
      "text/plain": [
       "6429"
      ]
     },
     "execution_count": 13,
     "metadata": {},
     "output_type": "execute_result"
    }
   ],
   "source": [
    "part2('inputs/day2.txt')"
   ]
  },
  {
   "cell_type": "code",
   "execution_count": null,
   "metadata": {},
   "outputs": [],
   "source": []
  }
 ],
 "metadata": {
  "kernelspec": {
   "display_name": "Test",
   "language": "python",
   "name": "python3"
  },
  "language_info": {
   "codemirror_mode": {
    "name": "ipython",
    "version": 3
   },
   "file_extension": ".py",
   "mimetype": "text/x-python",
   "name": "python",
   "nbconvert_exporter": "python",
   "pygments_lexer": "ipython3",
   "version": "3.12.2"
  }
 },
 "nbformat": 4,
 "nbformat_minor": 2
}
