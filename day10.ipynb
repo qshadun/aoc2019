{
 "cells": [
  {
   "cell_type": "code",
   "execution_count": 44,
   "metadata": {},
   "outputs": [],
   "source": [
    "from utils import read_lines\n",
    "import math\n",
    "from collections import defaultdict\n",
    "\n",
    "def part1(input_file):\n",
    "    lines = read_lines(input_file)\n",
    "    ans = 0\n",
    "    m, n = len(lines), len(lines[0])\n",
    "    for i in range(m):\n",
    "        for j in range(n):\n",
    "            if lines[i][j] == '#':\n",
    "                deltas = set()\n",
    "                for x in range(m):\n",
    "                    for y in range(n):\n",
    "                        if x == i and y == j or lines[x][y] != '#':\n",
    "                            continue\n",
    "                        if x == i:\n",
    "                            deltas.add((0, 1 if y-j>0 else -1))\n",
    "                        elif y == j:\n",
    "                            deltas.add((1 if x-i > 0 else -1, 0))\n",
    "                        else:\n",
    "                            dx, dy = x-i, y-j\n",
    "                            gcd = math.gcd(dx, dy)\n",
    "                            deltas.add((dx // gcd, dy // gcd))\n",
    "                ans = max(ans, len(deltas))\n",
    "    return ans \n",
    "\n",
    "def calc_degree(delta):\n",
    "    dy, dx = delta\n",
    "    dist = math.sqrt(dy**2 + dx**2)\n",
    "    cos = -dy / dist\n",
    "    if dx >= 0:\n",
    "        return math.acos(cos)\n",
    "    else:\n",
    "        return math.pi * 2 - math.acos(cos)\n",
    "    \n",
    "def part2(input_file):\n",
    "    lines = read_lines(input_file)\n",
    "    max_pos = (0, 0)\n",
    "    max_deltas = {}\n",
    "    m, n = len(lines), len(lines[0])\n",
    "    for i in range(m):\n",
    "        for j in range(n):\n",
    "            if lines[i][j] == '#':\n",
    "                deltas = defaultdict(list)\n",
    "                # x, y should be y, x in the problem\n",
    "                for x in range(m):\n",
    "                    for y in range(n):\n",
    "                        if x == i and y == j or lines[x][y] != '#':\n",
    "                            continue\n",
    "                        if x == i:\n",
    "                            dk = (0, 1 if y-j>0 else -1)\n",
    "                        elif y == j:\n",
    "                            dk = (1 if x-i > 0 else -1, 0)\n",
    "                        else:\n",
    "                            dx, dy = x-i, y-j\n",
    "                            gcd = math.gcd(dx, dy)\n",
    "                            dk = (dx // gcd, dy // gcd)\n",
    "                        deltas[dk].append((x, y))\n",
    "                if len(deltas) > len(max_deltas):\n",
    "                    max_pos = (i, j)\n",
    "                    max_deltas = deltas\n",
    "    print(max_pos)\n",
    "    dks = list(max_deltas.keys())\n",
    "    dks.sort(key=calc_degree)\n",
    "    for v in max_deltas.values():\n",
    "        v.sort(key=lambda x: -(x[0]**2 + x[1]**2))\n",
    "    i, j = 0, 0\n",
    "    p = (0, 0)\n",
    "    while True:\n",
    "        if max_deltas[dks[j]]:\n",
    "            p = max_deltas[dks[j]].pop()\n",
    "            i += 1\n",
    "            if i == 200:\n",
    "                return p[1] * 100 + p[0]\n",
    "        j = (j + 1) % len(dks)\n"
   ]
  },
  {
   "cell_type": "code",
   "execution_count": 9,
   "metadata": {},
   "outputs": [
    {
     "data": {
      "text/plain": [
       "210"
      ]
     },
     "execution_count": 9,
     "metadata": {},
     "output_type": "execute_result"
    }
   ],
   "source": [
    "part1('inputs/day10_test.txt')"
   ]
  },
  {
   "cell_type": "code",
   "execution_count": 10,
   "metadata": {},
   "outputs": [
    {
     "data": {
      "text/plain": [
       "296"
      ]
     },
     "execution_count": 10,
     "metadata": {},
     "output_type": "execute_result"
    }
   ],
   "source": [
    "part1('inputs/day10.txt')"
   ]
  },
  {
   "cell_type": "code",
   "execution_count": 45,
   "metadata": {},
   "outputs": [
    {
     "name": "stdout",
     "output_type": "stream",
     "text": [
      "(13, 11)\n"
     ]
    },
    {
     "data": {
      "text/plain": [
       "802"
      ]
     },
     "execution_count": 45,
     "metadata": {},
     "output_type": "execute_result"
    }
   ],
   "source": [
    "part2('inputs/day10_test.txt')"
   ]
  },
  {
   "cell_type": "code",
   "execution_count": 46,
   "metadata": {},
   "outputs": [
    {
     "name": "stdout",
     "output_type": "stream",
     "text": [
      "(23, 17)\n"
     ]
    },
    {
     "data": {
      "text/plain": [
       "204"
      ]
     },
     "execution_count": 46,
     "metadata": {},
     "output_type": "execute_result"
    }
   ],
   "source": [
    "part2('inputs/day10.txt')"
   ]
  },
  {
   "cell_type": "code",
   "execution_count": null,
   "metadata": {},
   "outputs": [],
   "source": []
  }
 ],
 "metadata": {
  "kernelspec": {
   "display_name": "Test",
   "language": "python",
   "name": "python3"
  },
  "language_info": {
   "codemirror_mode": {
    "name": "ipython",
    "version": 3
   },
   "file_extension": ".py",
   "mimetype": "text/x-python",
   "name": "python",
   "nbconvert_exporter": "python",
   "pygments_lexer": "ipython3",
   "version": "3.12.2"
  }
 },
 "nbformat": 4,
 "nbformat_minor": 2
}
